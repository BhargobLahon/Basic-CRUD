{
  "cells": [
    {
      "cell_type": "markdown",
      "metadata": {
        "id": "view-in-github",
        "colab_type": "text"
      },
      "source": [
        "<a href=\"https://colab.research.google.com/github/BhargobLahon/Basic-CRUD/blob/main/Untitled4.ipynb\" target=\"_parent\"><img src=\"https://colab.research.google.com/assets/colab-badge.svg\" alt=\"Open In Colab\"/></a>"
      ]
    },
    {
      "cell_type": "code",
      "execution_count": null,
      "metadata": {
        "colab": {
          "background_save": true,
          "base_uri": "https://localhost:8080/"
        },
        "id": "WTokpX1MsbJz",
        "outputId": "f6a0edcd-5590-48f7-ef80-4440cb2ccf4d"
      },
      "outputs": [
        {
          "output_type": "stream",
          "name": "stdout",
          "text": [
            "Welcome to the Quiz Application!\n",
            "\n",
            "What is the capital of France?\n",
            "(a) London\n",
            "(b) Berlin\n",
            "(c) Paris\n",
            "\n",
            "Your answer: c\n",
            "Correct!\n",
            "\n",
            "Who wrote 'Romeo and Juliet'?\n",
            "(a) Charles Dickens\n",
            "(b) William Shakespeare\n",
            "(c) J.K. Rowling\n",
            "\n",
            "Your answer: b\n",
            "Correct!\n",
            "\n",
            "HDI stands for:\n",
            "(a)Human Development Index\n",
            "(b) Human Development Item\n",
            "(c) Housing Development Bank of India\n",
            "\n",
            "Your answer: a\n",
            "Correct!\n",
            "\n",
            "The Earth Summit was organised by\n",
            "(a) UNCED\n",
            "(b) UNESCO\n",
            "(c) UNICEF\n",
            "\n",
            "Your answer: b\n",
            "Wrong! The correct answer was: a\n",
            "\n",
            "How many bones do sharks have?\n",
            "(a) 600\n",
            "(b) 0\n",
            "(c) 306\n",
            "\n",
            "Your answer: b\n",
            "Correct!\n",
            "\n",
            "Which planet is known as the Red Planet?\n",
            "(a) Earth\n",
            "(b) Mars\n",
            "(c) Jupiter\n",
            "\n",
            "Your answer: b\n",
            "Correct!\n",
            "\n",
            "You got 5/6 questions right.\n"
          ]
        }
      ],
      "source": [
        "import random\n",
        "\n",
        "class Question:\n",
        "    def __init__(self, prompt, answer):\n",
        "        self.prompt = prompt\n",
        "        self.answer = answer\n",
        "\n",
        "def run_quiz(questions):\n",
        "    score = 0\n",
        "    for question in questions:\n",
        "        print(question.prompt)\n",
        "        user_answer = input(\"Your answer: \")\n",
        "        if user_answer.strip().lower() == question.answer.strip().lower():\n",
        "            print(\"Correct!\\n\")\n",
        "            score += 1\n",
        "        else:\n",
        "            print(f\"Wrong! The correct answer was: {question.answer}\\n\")\n",
        "\n",
        "    print(f\"You got {score}/{len(questions)} questions right.\")\n",
        "\n",
        "def main():\n",
        "    print(\"Welcome to the Quiz Application!\\n\")\n",
        "\n",
        "    # Define quiz questions\n",
        "    question_prompts = [\n",
        "        \"What is the capital of France?\\n(a) London\\n(b) Berlin\\n(c) Paris\\n\",\n",
        "        \"Which planet is known as the Red Planet?\\n(a) Earth\\n(b) Mars\\n(c) Jupiter\\n\",\n",
        "        \"Who wrote 'Romeo and Juliet'?\\n(a) Charles Dickens\\n(b) William Shakespeare\\n(c) J.K. Rowling\\n\",\n",
        "        \"How many bones do sharks have?\\n(a) 600\\n(b) 0\\n(c) 306\\n\",\n",
        "        \"The Earth Summit was organised by\\n(a) UNCED\\n(b) UNESCO\\n(c) UNICEF\\n\",\n",
        "        \"HDI stands for:\\n(a)Human Development Index\\n(b) Human Development Item\\n(c) Housing Development Bank of India\\n\"\n",
        "    ]\n",
        "\n",
        "    # Correct answers\n",
        "    answers = [\"c\", \"b\", \"b\", \"b\", \"a\", \"a\"]\n",
        "\n",
        "    #Replay loop\n",
        "    while True:\n",
        "      # Create list of Question objects\n",
        "      questions = [Question(prompt, answer) for prompt, answer in zip(question_prompts, answers)]\n",
        "\n",
        "      #Randomize the order of questions\n",
        "      random.shuffle(questions)\n",
        "\n",
        "      # Run the quiz\n",
        "      run_quiz(questions)\n",
        "\n",
        "      #Ask if the user wants to replay\n",
        "      replay=input(\"Would you like to play again?(yes/no): \").strip().lower()\n",
        "      if replay!=\"yes\":\n",
        "        print(\"Thanks for playing! Goodbye!\")\n",
        "        break\n",
        "\n",
        "if __name__ == \"__main__\":\n",
        "    main()\n"
      ]
    }
  ],
  "metadata": {
    "colab": {
      "provenance": [],
      "include_colab_link": true
    },
    "kernelspec": {
      "display_name": "Python 3",
      "name": "python3"
    },
    "language_info": {
      "name": "python"
    }
  },
  "nbformat": 4,
  "nbformat_minor": 0
}